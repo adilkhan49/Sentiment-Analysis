{
 "cells": [
  {
   "cell_type": "markdown",
   "metadata": {},
   "source": [
    "# Web Scraping the Daily Mail Archives with Selenium Firefox"
   ]
  },
  {
   "cell_type": "markdown",
   "metadata": {},
   "source": [
    "Author: Adil Khan"
   ]
  },
  {
   "cell_type": "code",
   "execution_count": 141,
   "metadata": {},
   "outputs": [],
   "source": [
    "from selenium import webdriver\n",
    "from selenium.webdriver.common.keys import Keys\n",
    "from selenium.common.exceptions import NoSuchElementException\n",
    "import time\n",
    "import os\n",
    "import re\n",
    "import calendar\n",
    "import pandas as pd\n",
    "from IPython.display import display, HTML\n",
    "from nltk.sentiment.vader import SentimentIntensityAnalyzer"
   ]
  },
  {
   "cell_type": "markdown",
   "metadata": {},
   "source": [
    "### Create browser profile"
   ]
  },
  {
   "cell_type": "code",
   "execution_count": 142,
   "metadata": {},
   "outputs": [],
   "source": [
    "## Get profile class\n",
    "from selenium.webdriver.firefox.firefox_profile import FirefoxProfile\n",
    "## get the Firefox profile object\n",
    "firefoxProfile = FirefoxProfile()\n",
    "## Disable CSS\n",
    "firefoxProfile.set_preference('permissions.default.stylesheet', 2)\n",
    "## Disable images\n",
    "firefoxProfile.set_preference('permissions.default.image', 2)\n",
    "## Disable JavaScript\n",
    "firefoxProfile.set_preference('javascript.enabled', False)\n",
    "## Disable Flash\n",
    "firefoxProfile.set_preference('dom.ipc.plugins.enabled.libflashplayer.so','false')\n",
    "## Adblock path\n",
    "adblock ='/Users/Adil/Library/Application Support/Firefox/Profiles/3if0ne0t.default/extensions/{d10d0bf8-f5b5-c8b4-a8b2-2b9879e08c5d}.xpi'"
   ]
  },
  {
   "cell_type": "markdown",
   "metadata": {},
   "source": [
    "### Define filename and functions"
   ]
  },
  {
   "cell_type": "code",
   "execution_count": 143,
   "metadata": {},
   "outputs": [],
   "source": [
    "filename = 'DailyMail2018.csv'\n",
    "\n",
    "genreReg = re.compile(r'(https://www.dailymail.co.uk/)(\\w+)')\n",
    "\n",
    "#Open the browser. Remove hash tags if adverts are a problem\n",
    "def openbrowser(url):\n",
    "    global browser\n",
    "    browser = webdriver.Firefox(firefoxProfile)\n",
    "    #browser.install_addon(adblock, temporary=True)\n",
    "    #time.sleep(10)\n",
    "    #browser.switch_to_window(browser.window_handles[0])\n",
    "    browser.get(url)\n",
    "\n",
    "# Setiment analysis returns a pos, neg, neutral and compound sentiment. Returns a list of\n",
    "# compound sentiments for a list of sentences\n",
    "def sentiment(text):   \n",
    "    sid = SentimentIntensityAnalyzer()\n",
    "    return [sid.polarity_scores(sentence)['compound'] for sentence in text]\n",
    "\n",
    "# Parses the daily mail archive page for news article headlines\n",
    "def get_titles():\n",
    "    global titles, num_titles\n",
    "    x=browser.find_element_by_xpath('//*[@id=\"content\"]/div[1]/div[1]/ul[2]')\n",
    "    titles=x.text.split('\\n')\n",
    "    num_titles = len(titles)\n",
    "    \n",
    "def extract():\n",
    "    global urls, genres, sentiments\n",
    "# Get list of article urls\n",
    "    urls = [browser.find_element_by_xpath('//*[@id=\"content\"]/div[1]/div[1]/ul[2]/li['+str(i+1)+']/a').get_attribute('href') for i in range(num_titles)]\n",
    "\n",
    "# Extract genre\n",
    "    genres = [genreReg.search(urls[i]).group(2) for i in range(len(urls))]\n",
    "\n",
    "# Perform Sentiment Analysis\n",
    "    sentiments = sentiment(titles)\n",
    "    \n",
    "    \n",
    "def save():\n",
    "    df.to_csv(filename)\n",
    "    \n",
    "def log(date,time,status):\n",
    "    global runlog\n",
    "    templog = pd.DataFrame({\"date\":[date],\"time\":[time],\"status\":[status]})\n",
    "    print(templog.to_string(header=False,index=False))\n",
    "    runlog = pd.concat([runlog,templog])\n",
    "    "
   ]
  },
  {
   "cell_type": "markdown",
   "metadata": {},
   "source": [
    "### Create blank database\n",
    "Change the year, month and day to the desired interval. Error exception handling means that you don't need to worry about non-existent dates, e.g 31st February. \n",
    "\n",
    "Typically, >1000 articles are published daily. The scraper saves every day's worth of headlines to a csv, defined in save().\n",
    "\n",
    "If creating a blank database, be sure to change the filename in save()."
   ]
  },
  {
   "cell_type": "code",
   "execution_count": 59,
   "metadata": {},
   "outputs": [
    {
     "name": "stdout",
     "output_type": "stream",
     "text": [
      "Enter \"y\" to clear dataframe.\n",
      "y\n",
      "Dataframe cleared.\n"
     ]
    }
   ],
   "source": [
    "print('Enter \"y\" to clear dataframe in memory.')\n",
    "if input()=='y':\n",
    "    df=pd.DataFrame({'Title':['blank'],'Sentiment':None, 'Genre':None, 'Date':None})\n",
    "    print('Dataframe in memory cleared.')\n",
    "else:\n",
    "    print('Dataframe in memory not cleared.')"
   ]
  },
  {
   "cell_type": "markdown",
   "metadata": {},
   "source": [
    "### Load dataset if exists\n",
    "If a data set already exists then load it."
   ]
  },
  {
   "cell_type": "code",
   "execution_count": 144,
   "metadata": {},
   "outputs": [
    {
     "data": {
      "text/html": [
       "<div>\n",
       "<style scoped>\n",
       "    .dataframe tbody tr th:only-of-type {\n",
       "        vertical-align: middle;\n",
       "    }\n",
       "\n",
       "    .dataframe tbody tr th {\n",
       "        vertical-align: top;\n",
       "    }\n",
       "\n",
       "    .dataframe thead th {\n",
       "        text-align: right;\n",
       "    }\n",
       "</style>\n",
       "<table border=\"1\" class=\"dataframe\">\n",
       "  <thead>\n",
       "    <tr style=\"text-align: right;\">\n",
       "      <th></th>\n",
       "      <th>Date</th>\n",
       "      <th>Genre</th>\n",
       "      <th>Sentiment</th>\n",
       "      <th>Title</th>\n",
       "    </tr>\n",
       "  </thead>\n",
       "  <tbody>\n",
       "    <tr>\n",
       "      <th>251627</th>\n",
       "      <td>27/05/18</td>\n",
       "      <td>sport</td>\n",
       "      <td>-0.9001</td>\n",
       "      <td>BUMBLE AT THE TEST: No hiding place for deject...</td>\n",
       "    </tr>\n",
       "    <tr>\n",
       "      <th>251628</th>\n",
       "      <td>27/05/18</td>\n",
       "      <td>sport</td>\n",
       "      <td>0.4215</td>\n",
       "      <td>Manchester United and Chelsea stars who featur...</td>\n",
       "    </tr>\n",
       "    <tr>\n",
       "      <th>251629</th>\n",
       "      <td>27/05/18</td>\n",
       "      <td>wires</td>\n",
       "      <td>0.0000</td>\n",
       "      <td>Conservative governor, liberal lawmakers clash...</td>\n",
       "    </tr>\n",
       "    <tr>\n",
       "      <th>251630</th>\n",
       "      <td>27/05/18</td>\n",
       "      <td>sport</td>\n",
       "      <td>-0.7579</td>\n",
       "      <td>'We are seeing collapse after collapse... are ...</td>\n",
       "    </tr>\n",
       "    <tr>\n",
       "      <th>251631</th>\n",
       "      <td>27/05/18</td>\n",
       "      <td>wires</td>\n",
       "      <td>0.3400</td>\n",
       "      <td>Motor racing-Ricciardo takes tense Monaco win ...</td>\n",
       "    </tr>\n",
       "  </tbody>\n",
       "</table>\n",
       "</div>"
      ],
      "text/plain": [
       "            Date  Genre  Sentiment  \\\n",
       "251627  27/05/18  sport    -0.9001   \n",
       "251628  27/05/18  sport     0.4215   \n",
       "251629  27/05/18  wires     0.0000   \n",
       "251630  27/05/18  sport    -0.7579   \n",
       "251631  27/05/18  wires     0.3400   \n",
       "\n",
       "                                                    Title  \n",
       "251627  BUMBLE AT THE TEST: No hiding place for deject...  \n",
       "251628  Manchester United and Chelsea stars who featur...  \n",
       "251629  Conservative governor, liberal lawmakers clash...  \n",
       "251630  'We are seeing collapse after collapse... are ...  \n",
       "251631  Motor racing-Ricciardo takes tense Monaco win ...  "
      ]
     },
     "execution_count": 144,
     "metadata": {},
     "output_type": "execute_result"
    }
   ],
   "source": [
    "df=pd.read_csv(filename, encoding='ISO-8859-1')\n",
    "df=df.drop('Unnamed: 0',axis=1)\n",
    "df.tail()"
   ]
  },
  {
   "cell_type": "markdown",
   "metadata": {},
   "source": [
    "## Start logging"
   ]
  },
  {
   "cell_type": "code",
   "execution_count": 145,
   "metadata": {},
   "outputs": [],
   "source": [
    "runlog = pd.DataFrame({\"date\":[],\"time\":[],\"status\":[]})\n"
   ]
  },
  {
   "cell_type": "code",
   "execution_count": 146,
   "metadata": {},
   "outputs": [
    {
     "name": "stdout",
     "output_type": "stream",
     "text": [
      "2018-05-28  1426 records  41.808184\n",
      "2018-05-29  1947 records  54.464499\n",
      "2018-05-30  2000 records  55.123299\n",
      "2018-05-31  2000 records  53.890962\n",
      "May completed.\n"
     ]
    }
   ],
   "source": [
    "for year in [2018]:\n",
    "    for month in (range(5,6)):\n",
    "        for day in (range(28,32)):\n",
    "            date  = str(year)+'-'+str(month).zfill(2)+'-'+str(day).zfill(2)\n",
    "            path = 'http://www.dailymail.co.uk/home/sitemaparchive/day_'+str(year)+str(month).zfill(2)+str(day).zfill(2)+'.html'\n",
    "            start = time.time()\n",
    "            try:\n",
    "                openbrowser(path)\n",
    "            except:\n",
    "                print('Loading error on:\\t',date)\n",
    "                log(date,start,None,'Loading error')                \n",
    "                continue\n",
    "            try:\n",
    "                get_titles()\n",
    "            except NoSuchElementException:\n",
    "                print('NoSuchElementException on:\\t',date)\n",
    "                log(date,start,None,'NoSuchElementException')                \n",
    "                browser.close()\n",
    "                continue\n",
    "            try:\n",
    "                extract()\n",
    "            except AttributeError:\n",
    "                print('AttributeError on:\\t',date)\n",
    "                log(date,start,None,'AttributeError')\n",
    "                browser.close()\n",
    "                continue               \n",
    "            browser.close()\n",
    "            log(date,time.time()-start,'{} records'.format(len(titles)))\n",
    "            df_temp = pd.DataFrame({'Title':titles,'Sentiment':sentiments, 'Genre':genres, 'Date':date})\n",
    "            df=pd.concat([df,df_temp])\n",
    "            save()\n",
    "        print(calendar.month_name[month] + ' completed.')\n",
    "        "
   ]
  }
 ],
 "metadata": {
  "kernelspec": {
   "display_name": "Python 3",
   "language": "python",
   "name": "python3"
  },
  "language_info": {
   "codemirror_mode": {
    "name": "ipython",
    "version": 3
   },
   "file_extension": ".py",
   "mimetype": "text/x-python",
   "name": "python",
   "nbconvert_exporter": "python",
   "pygments_lexer": "ipython3",
   "version": "3.6.8"
  }
 },
 "nbformat": 4,
 "nbformat_minor": 2
}
