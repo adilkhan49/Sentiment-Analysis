{
 "cells": [
  {
   "cell_type": "markdown",
   "metadata": {},
   "source": [
    "# Web Scraping the Daily Mail Archives with Selenium Firefox"
   ]
  },
  {
   "cell_type": "markdown",
   "metadata": {},
   "source": [
    "Author: Adil Khan"
   ]
  },
  {
   "cell_type": "code",
   "execution_count": 1,
   "metadata": {},
   "outputs": [
    {
     "name": "stderr",
     "output_type": "stream",
     "text": [
      "/Users/Adil/anaconda3/lib/python3.6/site-packages/nltk/twitter/__init__.py:20: UserWarning: The twython library has not been installed. Some functionality from the twitter package will not be available.\n",
      "  warnings.warn(\"The twython library has not been installed. \"\n"
     ]
    }
   ],
   "source": [
    "from selenium import webdriver\n",
    "from selenium.webdriver.common.keys import Keys\n",
    "from selenium.common.exceptions import NoSuchElementException\n",
    "import time\n",
    "import os\n",
    "import re\n",
    "import pandas as pd\n",
    "from tqdm import tqdm_notebook as tqdm\n",
    "from nltk.sentiment.vader import SentimentIntensityAnalyzer"
   ]
  },
  {
   "cell_type": "markdown",
   "metadata": {},
   "source": [
    "### Create browser profile"
   ]
  },
  {
   "cell_type": "code",
   "execution_count": 2,
   "metadata": {},
   "outputs": [],
   "source": [
    "## Get profile class\n",
    "from selenium.webdriver.firefox.firefox_profile import FirefoxProfile\n",
    "## get the Firefox profile object\n",
    "firefoxProfile = FirefoxProfile()\n",
    "## Disable CSS\n",
    "firefoxProfile.set_preference('permissions.default.stylesheet', 2)\n",
    "## Disable images\n",
    "firefoxProfile.set_preference('permissions.default.image', 2)\n",
    "## Disable JavaScript\n",
    "firefoxProfile.set_preference('javascript.enabled', False)\n",
    "## Disable Flash\n",
    "firefoxProfile.set_preference('dom.ipc.plugins.enabled.libflashplayer.so','false')\n",
    "## Adblock path\n",
    "adblock ='/Users/Adil/Library/Application Support/Firefox/Profiles/3if0ne0t.default/extensions/{d10d0bf8-f5b5-c8b4-a8b2-2b9879e08c5d}.xpi'"
   ]
  },
  {
   "cell_type": "markdown",
   "metadata": {},
   "source": [
    "### Define functions"
   ]
  },
  {
   "cell_type": "code",
   "execution_count": 3,
   "metadata": {},
   "outputs": [],
   "source": [
    "genreReg = re.compile(r'(http://www.dailymail.co.uk/)(\\w+)')\n",
    "\n",
    "#Open the browser. Remove hash tags if adverts are a problem\n",
    "def openbrowser(url):\n",
    "    global browser\n",
    "    browser = webdriver.Firefox(firefoxProfile)\n",
    "    #browser.install_addon(adblock, temporary=True)\n",
    "    #time.sleep(10)\n",
    "    #browser.switch_to_window(browser.window_handles[0])\n",
    "    browser.get(url)\n",
    "\n",
    "# Setiment analysis returns a pos, neg, neutral and compound sentiment. Returns a list of\n",
    "# compound sentiments for a list of sentences\n",
    "def sentiment(text):   \n",
    "    sid = SentimentIntensityAnalyzer()\n",
    "    return [sid.polarity_scores(sentence)['compound'] for sentence in text]\n",
    "\n",
    "# Parses the daily mail archive page for news article headlines\n",
    "def get_titles():\n",
    "    global titles, num_titles\n",
    "    x=browser.find_element_by_xpath('//*[@id=\"content\"]/div[1]/div[1]/ul[2]')\n",
    "    titles=x.text.split('\\n')\n",
    "    num_titles = len(titles)\n",
    "    \n",
    "def extract():\n",
    "    global urls, genres, sentiments\n",
    "# Get list of article urls\n",
    "    urls = [browser.find_element_by_xpath('//*[@id=\"content\"]/div[1]/div[1]/ul[2]/li['+str(i+1)+']/a').get_attribute('href') for i in range(num_titles)]\n",
    "\n",
    "# Extract genre\n",
    "    genres = [genreReg.search(urls[i]).group(2) for i in range(len(urls))]\n",
    "\n",
    "# Perform Sentiment Analysis\n",
    "    sentiments = sentiment(titles)\n",
    "    \n",
    "def save():\n",
    "    df.to_csv('DailyMail2016.csv')"
   ]
  },
  {
   "cell_type": "markdown",
   "metadata": {},
   "source": [
    "### Extract Data\n",
    "Change the year, month and day to the desired interval. Error exception handling means that you don't need to worry about non-existent dates, e.g 31st February. \n",
    "\n",
    "Typically, >1000 articles are published daily. The scraper saves every day's worth of headlines to a csv, defined in save().\n",
    "\n",
    "If creating a blank database, be sure to change the filename in save().\n",
    "\n",
    "tqdm allows the use of loading bars.\n"
   ]
  },
  {
   "cell_type": "code",
   "execution_count": null,
   "metadata": {},
   "outputs": [],
   "source": [
    "# Create blank database\n",
    "df=pd.DataFrame({'Title':['blank'],'Sentiment':None, 'Genre':None, 'Date':None})"
   ]
  },
  {
   "cell_type": "code",
   "execution_count": null,
   "metadata": {},
   "outputs": [
    {
     "data": {
      "application/vnd.jupyter.widget-view+json": {
       "model_id": "b9174d5f8a58436b9bd6e4d81fd42991",
       "version_major": 2,
       "version_minor": 0
      },
      "text/html": [
       "<p>Failed to display Jupyter Widget of type <code>HBox</code>.</p>\n",
       "<p>\n",
       "  If you're reading this message in the Jupyter Notebook or JupyterLab Notebook, it may mean\n",
       "  that the widgets JavaScript is still loading. If this message persists, it\n",
       "  likely means that the widgets JavaScript library is either not installed or\n",
       "  not enabled. See the <a href=\"https://ipywidgets.readthedocs.io/en/stable/user_install.html\">Jupyter\n",
       "  Widgets Documentation</a> for setup instructions.\n",
       "</p>\n",
       "<p>\n",
       "  If you're reading this message in another frontend (for example, a static\n",
       "  rendering on GitHub or <a href=\"https://nbviewer.jupyter.org/\">NBViewer</a>),\n",
       "  it may mean that your frontend doesn't currently support widgets.\n",
       "</p>\n"
      ],
      "text/plain": [
       "HBox(children=(IntProgress(value=0, max=10), HTML(value='')))"
      ]
     },
     "metadata": {},
     "output_type": "display_data"
    },
    {
     "data": {
      "application/vnd.jupyter.widget-view+json": {
       "model_id": "97e1e8e8137b4dbebf513644b11ae346",
       "version_major": 2,
       "version_minor": 0
      },
      "text/html": [
       "<p>Failed to display Jupyter Widget of type <code>HBox</code>.</p>\n",
       "<p>\n",
       "  If you're reading this message in the Jupyter Notebook or JupyterLab Notebook, it may mean\n",
       "  that the widgets JavaScript is still loading. If this message persists, it\n",
       "  likely means that the widgets JavaScript library is either not installed or\n",
       "  not enabled. See the <a href=\"https://ipywidgets.readthedocs.io/en/stable/user_install.html\">Jupyter\n",
       "  Widgets Documentation</a> for setup instructions.\n",
       "</p>\n",
       "<p>\n",
       "  If you're reading this message in another frontend (for example, a static\n",
       "  rendering on GitHub or <a href=\"https://nbviewer.jupyter.org/\">NBViewer</a>),\n",
       "  it may mean that your frontend doesn't currently support widgets.\n",
       "</p>\n"
      ],
      "text/plain": [
       "HBox(children=(IntProgress(value=0, max=31), HTML(value='')))"
      ]
     },
     "metadata": {},
     "output_type": "display_data"
    },
    {
     "name": "stdout",
     "output_type": "stream",
     "text": [
      "\n"
     ]
    },
    {
     "data": {
      "application/vnd.jupyter.widget-view+json": {
       "model_id": "ed1d523ef5994d4189d41966340eb3de",
       "version_major": 2,
       "version_minor": 0
      },
      "text/html": [
       "<p>Failed to display Jupyter Widget of type <code>HBox</code>.</p>\n",
       "<p>\n",
       "  If you're reading this message in the Jupyter Notebook or JupyterLab Notebook, it may mean\n",
       "  that the widgets JavaScript is still loading. If this message persists, it\n",
       "  likely means that the widgets JavaScript library is either not installed or\n",
       "  not enabled. See the <a href=\"https://ipywidgets.readthedocs.io/en/stable/user_install.html\">Jupyter\n",
       "  Widgets Documentation</a> for setup instructions.\n",
       "</p>\n",
       "<p>\n",
       "  If you're reading this message in another frontend (for example, a static\n",
       "  rendering on GitHub or <a href=\"https://nbviewer.jupyter.org/\">NBViewer</a>),\n",
       "  it may mean that your frontend doesn't currently support widgets.\n",
       "</p>\n"
      ],
      "text/plain": [
       "HBox(children=(IntProgress(value=0, max=31), HTML(value='')))"
      ]
     },
     "metadata": {},
     "output_type": "display_data"
    }
   ],
   "source": [
    "for year in [2016]:\n",
    "    for month in tqdm(range(3,13)):\n",
    "        for day in tqdm(range(1,32)):\n",
    "            date  = str(year)+'-'+str(month).zfill(2)+'-'+str(day).zfill(2)\n",
    "            path = 'http://www.dailymail.co.uk/home/sitemaparchive/day_'+str(year)+str(month).zfill(2)+str(day).zfill(2)+'.html'\n",
    "            try:\n",
    "                openbrowser(path)\n",
    "            except:\n",
    "                print('Loading error on:\\t',date)\n",
    "                break\n",
    "            try:\n",
    "                get_titles()\n",
    "            except NoSuchElementException:\n",
    "                continue\n",
    "            extract()\n",
    "            browser.close()\n",
    "            df_temp = pd.DataFrame({'Title':titles,'Sentiment':sentiments, 'Genre':genres, 'Date':date})\n",
    "            df=pd.concat([df,df_temp])\n",
    "            save()"
   ]
  }
 ],
 "metadata": {
  "kernelspec": {
   "display_name": "Python 3",
   "language": "python",
   "name": "python3"
  },
  "language_info": {
   "codemirror_mode": {
    "name": "ipython",
    "version": 3
   },
   "file_extension": ".py",
   "mimetype": "text/x-python",
   "name": "python",
   "nbconvert_exporter": "python",
   "pygments_lexer": "ipython3",
   "version": "3.6.4"
  }
 },
 "nbformat": 4,
 "nbformat_minor": 2
}
